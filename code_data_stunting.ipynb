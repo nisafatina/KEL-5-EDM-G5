{
  "nbformat": 4,
  "nbformat_minor": 0,
  "metadata": {
    "colab": {
      "provenance": [],
      "mount_file_id": "1TzFlTS9SPmXYxGat8MFEHTqKfX5oK-8c",
      "authorship_tag": "ABX9TyMHU3W3EmBUjTuGZlXzOV1+",
      "include_colab_link": true
    },
    "kernelspec": {
      "name": "python3",
      "display_name": "Python 3"
    },
    "language_info": {
      "name": "python"
    }
  },
  "cells": [
    {
      "cell_type": "markdown",
      "metadata": {
        "id": "view-in-github",
        "colab_type": "text"
      },
      "source": [
        "<a href=\"https://colab.research.google.com/github/nisafatina/KEL-5-EDM-G5/blob/main/code_data_stunting.ipynb\" target=\"_parent\"><img src=\"https://colab.research.google.com/assets/colab-badge.svg\" alt=\"Open In Colab\"/></a>"
      ]
    },
    {
      "cell_type": "code",
      "source": [
        "!pip install selenium pandas\n",
        "!apt-get update\n",
        "!apt-get install -y chromium-chromedriver\n",
        "!cp /usr/lib/chromium-browser/chromedriver /usr/bin\n"
      ],
      "metadata": {
        "colab": {
          "base_uri": "https://localhost:8080/"
        },
        "id": "x800agsIk2ET",
        "outputId": "d58f86a9-3867-4335-d653-1bb0b0d82aed"
      },
      "execution_count": null,
      "outputs": [
        {
          "output_type": "stream",
          "name": "stdout",
          "text": [
            "Requirement already satisfied: selenium in /usr/local/lib/python3.10/dist-packages (4.23.1)\n",
            "Requirement already satisfied: pandas in /usr/local/lib/python3.10/dist-packages (2.1.4)\n",
            "Requirement already satisfied: urllib3<3,>=1.26 in /usr/local/lib/python3.10/dist-packages (from urllib3[socks]<3,>=1.26->selenium) (2.0.7)\n",
            "Requirement already satisfied: trio~=0.17 in /usr/local/lib/python3.10/dist-packages (from selenium) (0.26.0)\n",
            "Requirement already satisfied: trio-websocket~=0.9 in /usr/local/lib/python3.10/dist-packages (from selenium) (0.11.1)\n",
            "Requirement already satisfied: certifi>=2021.10.8 in /usr/local/lib/python3.10/dist-packages (from selenium) (2024.7.4)\n",
            "Requirement already satisfied: typing_extensions~=4.9 in /usr/local/lib/python3.10/dist-packages (from selenium) (4.12.2)\n",
            "Requirement already satisfied: websocket-client~=1.8 in /usr/local/lib/python3.10/dist-packages (from selenium) (1.8.0)\n",
            "Requirement already satisfied: numpy<2,>=1.22.4 in /usr/local/lib/python3.10/dist-packages (from pandas) (1.26.4)\n",
            "Requirement already satisfied: python-dateutil>=2.8.2 in /usr/local/lib/python3.10/dist-packages (from pandas) (2.8.2)\n",
            "Requirement already satisfied: pytz>=2020.1 in /usr/local/lib/python3.10/dist-packages (from pandas) (2024.1)\n",
            "Requirement already satisfied: tzdata>=2022.1 in /usr/local/lib/python3.10/dist-packages (from pandas) (2024.1)\n",
            "Requirement already satisfied: six>=1.5 in /usr/local/lib/python3.10/dist-packages (from python-dateutil>=2.8.2->pandas) (1.16.0)\n",
            "Requirement already satisfied: attrs>=23.2.0 in /usr/local/lib/python3.10/dist-packages (from trio~=0.17->selenium) (23.2.0)\n",
            "Requirement already satisfied: sortedcontainers in /usr/local/lib/python3.10/dist-packages (from trio~=0.17->selenium) (2.4.0)\n",
            "Requirement already satisfied: idna in /usr/local/lib/python3.10/dist-packages (from trio~=0.17->selenium) (3.7)\n",
            "Requirement already satisfied: outcome in /usr/local/lib/python3.10/dist-packages (from trio~=0.17->selenium) (1.3.0.post0)\n",
            "Requirement already satisfied: sniffio>=1.3.0 in /usr/local/lib/python3.10/dist-packages (from trio~=0.17->selenium) (1.3.1)\n",
            "Requirement already satisfied: exceptiongroup in /usr/local/lib/python3.10/dist-packages (from trio~=0.17->selenium) (1.2.2)\n",
            "Requirement already satisfied: wsproto>=0.14 in /usr/local/lib/python3.10/dist-packages (from trio-websocket~=0.9->selenium) (1.2.0)\n",
            "Requirement already satisfied: pysocks!=1.5.7,<2.0,>=1.5.6 in /usr/local/lib/python3.10/dist-packages (from urllib3[socks]<3,>=1.26->selenium) (1.7.1)\n",
            "Requirement already satisfied: h11<1,>=0.9.0 in /usr/local/lib/python3.10/dist-packages (from wsproto>=0.14->trio-websocket~=0.9->selenium) (0.14.0)\n",
            "Hit:1 https://cloud.r-project.org/bin/linux/ubuntu jammy-cran40/ InRelease\n",
            "Hit:2 https://developer.download.nvidia.com/compute/cuda/repos/ubuntu2204/x86_64  InRelease\n",
            "Hit:3 http://archive.ubuntu.com/ubuntu jammy InRelease\n",
            "Hit:4 http://security.ubuntu.com/ubuntu jammy-security InRelease\n",
            "Hit:5 http://archive.ubuntu.com/ubuntu jammy-updates InRelease\n",
            "Hit:6 http://archive.ubuntu.com/ubuntu jammy-backports InRelease\n",
            "Ign:7 https://r2u.stat.illinois.edu/ubuntu jammy InRelease\n",
            "Hit:8 https://r2u.stat.illinois.edu/ubuntu jammy Release\n",
            "Hit:9 https://ppa.launchpadcontent.net/deadsnakes/ppa/ubuntu jammy InRelease\n",
            "Hit:10 https://ppa.launchpadcontent.net/graphics-drivers/ppa/ubuntu jammy InRelease\n",
            "Hit:12 https://ppa.launchpadcontent.net/ubuntugis/ppa/ubuntu jammy InRelease\n",
            "Reading package lists... Done\n",
            "W: Skipping acquire of configured file 'main/source/Sources' as repository 'https://r2u.stat.illinois.edu/ubuntu jammy InRelease' does not seem to provide it (sources.list entry misspelt?)\n",
            "Reading package lists... Done\n",
            "Building dependency tree... Done\n",
            "Reading state information... Done\n",
            "chromium-chromedriver is already the newest version (1:85.0.4183.83-0ubuntu2.22.04.1).\n",
            "0 upgraded, 0 newly installed, 0 to remove and 55 not upgraded.\n",
            "cp: '/usr/lib/chromium-browser/chromedriver' and '/usr/bin/chromedriver' are the same file\n"
          ]
        }
      ]
    },
    {
      "cell_type": "code",
      "source": [
        "from google.colab import drive\n",
        "drive.mount('/content/drive')"
      ],
      "metadata": {
        "id": "fNN3pcN2hNjV"
      },
      "execution_count": null,
      "outputs": []
    },
    {
      "cell_type": "code",
      "source": [
        "from selenium import webdriver\n",
        "import pandas as pd\n",
        "\n",
        "\n",
        "options = webdriver.ChromeOptions()\n",
        "options.add_argument('--headless')\n",
        "options.add_argument('--no-sandbox')\n",
        "options.add_argument('--disable-dev-shm-usage')\n",
        "options.binary_location = '/usr/bin/chromium-browser'\n",
        "\n",
        "\n",
        "driver = webdriver.Chrome(options=options)\n",
        "\n",
        "url = 'https://aksi.bangda.kemendagri.go.id/emonev/DashPrev/index/4'\n",
        "driver.get(url)\n",
        "\n",
        "\n",
        "driver.implicitly_wait(10)\n",
        "\n",
        "\n",
        "tables = pd.read_html(driver.page_source)\n",
        "df = tables[0]\n",
        "print(df)\n",
        "\n",
        "driver.quit()\n"
      ],
      "metadata": {
        "colab": {
          "base_uri": "https://localhost:8080/"
        },
        "id": "X_7jUNRhk8Yn",
        "outputId": "968529e2-5c8a-40ee-bc55-bdb6a0b82124"
      },
      "execution_count": null,
      "outputs": [
        {
          "output_type": "stream",
          "name": "stdout",
          "text": [
            "       No                   Provinsi Jumlah Balita (anak)      Stunting  \\\n",
            "       No                   Provinsi Jumlah Balita (anak) Pendek (anak)   \n",
            "0       1                       ACEH               415223         24944   \n",
            "1       2             SUMATERA UTARA               885988         32089   \n",
            "2       3             SUMATERA BARAT               348522         27846   \n",
            "3       4                       RIAU               418300         13280   \n",
            "4       5                      JAMBI               239147          6836   \n",
            "5       6           SUMATERA SELATAN               590994         13655   \n",
            "6       7                   BENGKULU               116001          4656   \n",
            "7       8                    LAMPUNG               520923         18609   \n",
            "8       9  KEPULAUAN BANGKA BELITUNG               104378          3214   \n",
            "9      10             KEPULAUAN RIAU               110753          4112   \n",
            "10     11                DKI JAKARTA               415345          3751   \n",
            "11     12                 JAWA BARAT              3219522        166920   \n",
            "12     13                JAWA TENGAH              1964618        144013   \n",
            "13     14              DI YOGYAKARTA               168523         12240   \n",
            "14     15                 JAWA TIMUR              2007261        142628   \n",
            "15     16                     BANTEN               781607         32675   \n",
            "16     17                       BALI               156831          5503   \n",
            "17     18        NUSA TENGGARA BARAT               416534         51197   \n",
            "18     19        NUSA TENGGARA TIMUR               401033         65912   \n",
            "19     20           KALIMANTAN BARAT               273461         31931   \n",
            "20     21          KALIMANTAN TENGAH               150999         10961   \n",
            "21     22         KALIMANTAN SELATAN               255436         18218   \n",
            "22     23           KALIMANTAN TIMUR               119419         11935   \n",
            "23     24           KALIMANTAN UTARA                29202          3578   \n",
            "24     25             SULAWESI UTARA               133139          2443   \n",
            "25     26            SULAWESI TENGAH               164282         16452   \n",
            "26     27           SULAWESI SELATAN               584481         40582   \n",
            "27     28          SULAWESI TENGGARA               177593         14498   \n",
            "28     29                  GORONTALO                81871          4581   \n",
            "29     30             SULAWESI BARAT                99033         17247   \n",
            "30     31                     MALUKU               104225          7678   \n",
            "31     32               MALUKU UTARA                59085          5578   \n",
            "32     33                PAPUA BARAT                35551          3081   \n",
            "33     34                      PAPUA                38912          2646   \n",
            "34     35           PAPUA PEGUNUNGAN                78435          1105   \n",
            "35     36              PAPUA SELATAN                19948          1449   \n",
            "36     37               PAPUA TENGAH                59115          4672   \n",
            "37     38           PAPUA BARAT DAYA                51091          4393   \n",
            "38  TOTAL                      TOTAL             15796781        977108   \n",
            "\n",
            "                        Persentase Kasus Stunting (%)  \n",
            "   Sangat Pendek (anak) Persentase Kasus Stunting (%)  \n",
            "0                  8291                           8.0  \n",
            "1                 16733                           5.5  \n",
            "2                  8112                          10.3  \n",
            "3                  4152                           4.2  \n",
            "4                  2878                           4.1  \n",
            "5                  4689                           3.1  \n",
            "6                   946                           4.8  \n",
            "7                  4941                           4.5  \n",
            "8                   863                           3.9  \n",
            "9                  1284                           4.9  \n",
            "10                 1409                           1.2  \n",
            "11                54145                           6.9  \n",
            "12                40351                           9.4  \n",
            "13                 3212                           9.2  \n",
            "14                47500                           9.5  \n",
            "15                20679                           6.8  \n",
            "16                 1480                           4.5  \n",
            "17                26019                          18.5  \n",
            "18                23786                          22.4  \n",
            "19                12526                          16.3  \n",
            "20                 4339                          10.1  \n",
            "21                 5611                           9.3  \n",
            "22                 4206                          13.5  \n",
            "23                 1189                          16.3  \n",
            "24                  637                           2.3  \n",
            "25                 5135                          13.1  \n",
            "26                12241                           9.0  \n",
            "27                 5112                          11.0  \n",
            "28                 1551                           7.5  \n",
            "29                 5656                          23.1  \n",
            "30                 2573                           9.8  \n",
            "31                 1667                          12.3  \n",
            "32                 1157                          11.9  \n",
            "33                  878                           9.1  \n",
            "34                  724                           2.3  \n",
            "35                 1847                          16.5  \n",
            "36                 3258                          13.4  \n",
            "37                 2352                          13.2  \n",
            "38               344129                           8.4  \n"
          ]
        },
        {
          "output_type": "stream",
          "name": "stderr",
          "text": [
            "<ipython-input-17-fbefcf9c1be5>:21: FutureWarning: Passing literal html to 'read_html' is deprecated and will be removed in a future version. To read from a literal string, wrap it in a 'StringIO' object.\n",
            "  tables = pd.read_html(driver.page_source)\n"
          ]
        }
      ]
    },
    {
      "cell_type": "code",
      "source": [
        "!pip install openpyxl\n"
      ],
      "metadata": {
        "colab": {
          "base_uri": "https://localhost:8080/"
        },
        "id": "VTTPjjgYmdDJ",
        "outputId": "cf85f95a-5b88-4ac5-cb6f-c214d13dbb41"
      },
      "execution_count": null,
      "outputs": [
        {
          "output_type": "stream",
          "name": "stdout",
          "text": [
            "Requirement already satisfied: openpyxl in /usr/local/lib/python3.10/dist-packages (3.1.5)\n",
            "Requirement already satisfied: et-xmlfile in /usr/local/lib/python3.10/dist-packages (from openpyxl) (1.1.0)\n"
          ]
        }
      ]
    },
    {
      "cell_type": "code",
      "source": [
        "from selenium import webdriver\n",
        "import pandas as pd\n",
        "from google.colab import files\n",
        "\n",
        "\n",
        "options = webdriver.ChromeOptions()\n",
        "options.add_argument('--headless')\n",
        "options.add_argument('--no-sandbox')\n",
        "options.add_argument('--disable-dev-shm-usage')\n",
        "options.binary_location = '/usr/bin/chromium-browser'\n",
        "\n",
        "driver = webdriver.Chrome(options=options)\n",
        "\n",
        "url = 'https://aksi.bangda.kemendagri.go.id/emonev/DashPrev/index/4'\n",
        "driver.get(url)\n",
        "\n",
        "\n",
        "driver.implicitly_wait(10)\n",
        "\n",
        "\n",
        "tables = pd.read_html(driver.page_source)\n",
        "df = tables[0]\n",
        "print(df)\n",
        "\n",
        "\n",
        "if isinstance(df.columns, pd.MultiIndex):\n",
        "    df.columns = [' '.join(col).strip() for col in df.columns.values]\n",
        "\n",
        "\n",
        "file_path = '/content/tabel_data.xlsx'\n",
        "df.to_excel(file_path, index=False)\n",
        "\n",
        "\n",
        "driver.quit()\n",
        "\n",
        "# Link untuk mendownload file Excel\n",
        "files.download(file_path)\n"
      ],
      "metadata": {
        "colab": {
          "base_uri": "https://localhost:8080/",
          "height": 1000
        },
        "id": "_iIZcYuHnXln",
        "outputId": "938559a9-6339-48bb-e1d1-18e8e206aba3"
      },
      "execution_count": null,
      "outputs": [
        {
          "output_type": "stream",
          "name": "stderr",
          "text": [
            "<ipython-input-18-56a59c94ddab>:21: FutureWarning: Passing literal html to 'read_html' is deprecated and will be removed in a future version. To read from a literal string, wrap it in a 'StringIO' object.\n",
            "  tables = pd.read_html(driver.page_source)\n"
          ]
        },
        {
          "output_type": "stream",
          "name": "stdout",
          "text": [
            "       No                   Provinsi Jumlah Balita (anak)      Stunting  \\\n",
            "       No                   Provinsi Jumlah Balita (anak) Pendek (anak)   \n",
            "0       1                       ACEH               415223         24944   \n",
            "1       2             SUMATERA UTARA               885988         32089   \n",
            "2       3             SUMATERA BARAT               348522         27846   \n",
            "3       4                       RIAU               418300         13280   \n",
            "4       5                      JAMBI               239147          6836   \n",
            "5       6           SUMATERA SELATAN               590994         13655   \n",
            "6       7                   BENGKULU               116001          4656   \n",
            "7       8                    LAMPUNG               520923         18609   \n",
            "8       9  KEPULAUAN BANGKA BELITUNG               104378          3214   \n",
            "9      10             KEPULAUAN RIAU               110753          4112   \n",
            "10     11                DKI JAKARTA               415345          3751   \n",
            "11     12                 JAWA BARAT              3219522        166920   \n",
            "12     13                JAWA TENGAH              1964618        144013   \n",
            "13     14              DI YOGYAKARTA               168523         12240   \n",
            "14     15                 JAWA TIMUR              2007261        142628   \n",
            "15     16                     BANTEN               781607         32675   \n",
            "16     17                       BALI               156831          5503   \n",
            "17     18        NUSA TENGGARA BARAT               416534         51197   \n",
            "18     19        NUSA TENGGARA TIMUR               401033         65912   \n",
            "19     20           KALIMANTAN BARAT               273461         31931   \n",
            "20     21          KALIMANTAN TENGAH               150999         10961   \n",
            "21     22         KALIMANTAN SELATAN               255436         18218   \n",
            "22     23           KALIMANTAN TIMUR               119419         11935   \n",
            "23     24           KALIMANTAN UTARA                29202          3578   \n",
            "24     25             SULAWESI UTARA               133139          2443   \n",
            "25     26            SULAWESI TENGAH               164282         16452   \n",
            "26     27           SULAWESI SELATAN               584481         40582   \n",
            "27     28          SULAWESI TENGGARA               177593         14498   \n",
            "28     29                  GORONTALO                81871          4581   \n",
            "29     30             SULAWESI BARAT                99033         17247   \n",
            "30     31                     MALUKU               104225          7678   \n",
            "31     32               MALUKU UTARA                59085          5578   \n",
            "32     33                PAPUA BARAT                35551          3081   \n",
            "33     34                      PAPUA                38912          2646   \n",
            "34     35           PAPUA PEGUNUNGAN                78435          1105   \n",
            "35     36              PAPUA SELATAN                19948          1449   \n",
            "36     37               PAPUA TENGAH                59115          4672   \n",
            "37     38           PAPUA BARAT DAYA                51091          4393   \n",
            "38  TOTAL                      TOTAL             15796781        977108   \n",
            "\n",
            "                        Persentase Kasus Stunting (%)  \n",
            "   Sangat Pendek (anak) Persentase Kasus Stunting (%)  \n",
            "0                  8291                           8.0  \n",
            "1                 16733                           5.5  \n",
            "2                  8112                          10.3  \n",
            "3                  4152                           4.2  \n",
            "4                  2878                           4.1  \n",
            "5                  4689                           3.1  \n",
            "6                   946                           4.8  \n",
            "7                  4941                           4.5  \n",
            "8                   863                           3.9  \n",
            "9                  1284                           4.9  \n",
            "10                 1409                           1.2  \n",
            "11                54145                           6.9  \n",
            "12                40351                           9.4  \n",
            "13                 3212                           9.2  \n",
            "14                47500                           9.5  \n",
            "15                20679                           6.8  \n",
            "16                 1480                           4.5  \n",
            "17                26019                          18.5  \n",
            "18                23786                          22.4  \n",
            "19                12526                          16.3  \n",
            "20                 4339                          10.1  \n",
            "21                 5611                           9.3  \n",
            "22                 4206                          13.5  \n",
            "23                 1189                          16.3  \n",
            "24                  637                           2.3  \n",
            "25                 5135                          13.1  \n",
            "26                12241                           9.0  \n",
            "27                 5112                          11.0  \n",
            "28                 1551                           7.5  \n",
            "29                 5656                          23.1  \n",
            "30                 2573                           9.8  \n",
            "31                 1667                          12.3  \n",
            "32                 1157                          11.9  \n",
            "33                  878                           9.1  \n",
            "34                  724                           2.3  \n",
            "35                 1847                          16.5  \n",
            "36                 3258                          13.4  \n",
            "37                 2352                          13.2  \n",
            "38               344129                           8.4  \n"
          ]
        },
        {
          "output_type": "display_data",
          "data": {
            "text/plain": [
              "<IPython.core.display.Javascript object>"
            ],
            "application/javascript": [
              "\n",
              "    async function download(id, filename, size) {\n",
              "      if (!google.colab.kernel.accessAllowed) {\n",
              "        return;\n",
              "      }\n",
              "      const div = document.createElement('div');\n",
              "      const label = document.createElement('label');\n",
              "      label.textContent = `Downloading \"${filename}\": `;\n",
              "      div.appendChild(label);\n",
              "      const progress = document.createElement('progress');\n",
              "      progress.max = size;\n",
              "      div.appendChild(progress);\n",
              "      document.body.appendChild(div);\n",
              "\n",
              "      const buffers = [];\n",
              "      let downloaded = 0;\n",
              "\n",
              "      const channel = await google.colab.kernel.comms.open(id);\n",
              "      // Send a message to notify the kernel that we're ready.\n",
              "      channel.send({})\n",
              "\n",
              "      for await (const message of channel.messages) {\n",
              "        // Send a message to notify the kernel that we're ready.\n",
              "        channel.send({})\n",
              "        if (message.buffers) {\n",
              "          for (const buffer of message.buffers) {\n",
              "            buffers.push(buffer);\n",
              "            downloaded += buffer.byteLength;\n",
              "            progress.value = downloaded;\n",
              "          }\n",
              "        }\n",
              "      }\n",
              "      const blob = new Blob(buffers, {type: 'application/binary'});\n",
              "      const a = document.createElement('a');\n",
              "      a.href = window.URL.createObjectURL(blob);\n",
              "      a.download = filename;\n",
              "      div.appendChild(a);\n",
              "      a.click();\n",
              "      div.remove();\n",
              "    }\n",
              "  "
            ]
          },
          "metadata": {}
        },
        {
          "output_type": "display_data",
          "data": {
            "text/plain": [
              "<IPython.core.display.Javascript object>"
            ],
            "application/javascript": [
              "download(\"download_f8b3bfb3-2eab-4f84-b945-8acc3827ef50\", \"tabel_data.xlsx\", 6746)"
            ]
          },
          "metadata": {}
        }
      ]
    }
  ]
}